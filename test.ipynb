{
 "cells": [
  {
   "cell_type": "code",
   "execution_count": 27,
   "outputs": [],
   "source": [
    "import numpy as np\n",
    "import pandas as pd\n",
    "from time import time\n",
    "import matplotlib.pyplot as plt\n",
    "from sklearn.model_selection import GridSearchCV\n",
    "from sklearn.model_selection import train_test_split\n",
    "from sklearn import svm\n",
    "from sklearn.decomposition import PCA\n",
    "from sklearn.preprocessing import MinMaxScaler"
   ],
   "metadata": {
    "collapsed": false,
    "pycharm": {
     "name": "#%%\n"
    }
   }
  },
  {
   "cell_type": "code",
   "execution_count": 28,
   "outputs": [],
   "source": [
    "# 导入训练集，测试集\n",
    "train = pd.read_csv(r'C:\\Users\\lenovo\\Desktop\\机器学习课设\\resource\\train.csv')\n",
    "test = pd.read_csv(r'C:\\Users\\lenovo\\Desktop\\机器学习课设\\resource\\test.csv')"
   ],
   "metadata": {
    "collapsed": false,
    "pycharm": {
     "name": "#%%\n"
    }
   }
  },
  {
   "cell_type": "code",
   "execution_count": 29,
   "outputs": [
    {
     "name": "stdout",
     "output_type": "stream",
     "text": [
      "<class 'pandas.core.frame.DataFrame'>\n",
      "RangeIndex: 42000 entries, 0 to 41999\n",
      "Columns: 785 entries, label to pixel783\n",
      "dtypes: int64(785)\n",
      "memory usage: 251.5 MB\n",
      "<class 'pandas.core.frame.DataFrame'>\n",
      "RangeIndex: 28000 entries, 0 to 27999\n",
      "Columns: 784 entries, pixel0 to pixel783\n",
      "dtypes: int64(784)\n",
      "memory usage: 167.5 MB\n"
     ]
    }
   ],
   "source": [
    "train.info()\n",
    "test.info()"
   ],
   "metadata": {
    "collapsed": false,
    "pycharm": {
     "name": "#%%\n"
    }
   }
  },
  {
   "cell_type": "code",
   "execution_count": 30,
   "outputs": [
    {
     "data": {
      "text/plain": "count       784\nunique        1\ntop       False\nfreq        784\ndtype: object"
     },
     "execution_count": 30,
     "metadata": {},
     "output_type": "execute_result"
    }
   ],
   "source": [
    "#数据预处理，看看给的数据有没有缺失值，不过看结果好像是不存在缺失值的\n",
    "train.isnull().any().describe()\n",
    "test.isnull().any().describe()"
   ],
   "metadata": {
    "collapsed": false,
    "pycharm": {
     "name": "#%%\n"
    }
   }
  },
  {
   "cell_type": "code",
   "execution_count": 31,
   "outputs": [],
   "source": [
    "#train有标签列和特征列两个类型的类，然后就需要分离。\n",
    "X = train.iloc[:,1:]\n",
    "y = train.iloc[:,0]"
   ],
   "metadata": {
    "collapsed": false,
    "pycharm": {
     "name": "#%%\n"
    }
   }
  },
  {
   "cell_type": "code",
   "execution_count": 32,
   "outputs": [
    {
     "data": {
      "text/plain": "<Figure size 720x360 with 10 Axes>",
      "image/png": "[encoded data removed]"
     },
     "metadata": {
      "needs_background": "light"
     },
     "output_type": "display_data"
    }
   ],
   "source": [
    "#将每个向量重组还原成矩阵,显示还原后的前十个数据\n",
    "plt.figure(figsize = (10,5))\n",
    "for num in range(0,10):\n",
    "    plt.subplot(2,5,num+1)\n",
    "    gridData = X.iloc[num].values.reshape(28,28)\n",
    "    plt.imshow(gridData, interpolation = \"none\", cmap = \"Greys\")"
   ],
   "metadata": {
    "collapsed": false,
    "pycharm": {
     "name": "#%%\n"
    }
   }
  },
  {
   "cell_type": "code",
   "execution_count": 33,
   "outputs": [],
   "source": [
    "#数据预处理，分离训练集\n",
    "#将x,y放缩到（0，1）之间\n",
    "#分割训练集 测试集\n",
    "X = MinMaxScaler().fit_transform(X)\n",
    "test = MinMaxScaler().fit_transform(test)\n",
    "x_train, x_test, y_train, y_test = train_test_split(X, y, test_size = 0.1, random_state = 14)"
   ],
   "metadata": {
    "collapsed": false,
    "pycharm": {
     "name": "#%%\n"
    }
   }
  },
  {
   "cell_type": "code",
   "execution_count": 34,
   "outputs": [
    {
     "name": "stdout",
     "output_type": "stream",
     "text": [
      "n_components:0.70 , accuracy:0.9729 , time elaps:15.07s\n",
      "n_components:0.71 , accuracy:0.9740 , time elaps:14.20s\n",
      "n_components:0.72 , accuracy:0.9748 , time elaps:13.19s\n",
      "n_components:0.73 , accuracy:0.9745 , time elaps:14.51s\n",
      "n_components:0.74 , accuracy:0.9762 , time elaps:14.24s\n",
      "n_components:0.75 , accuracy:0.9762 , time elaps:14.28s\n",
      "n_components:0.76 , accuracy:0.9767 , time elaps:14.42s\n",
      "n_components:0.77 , accuracy:0.9764 , time elaps:15.76s\n",
      "n_components:0.78 , accuracy:0.9781 , time elaps:18.01s\n",
      "n_components:0.79 , accuracy:0.9776 , time elaps:18.09s\n",
      "n_components:0.80 , accuracy:0.9779 , time elaps:18.19s\n",
      "n_components:0.81 , accuracy:0.9776 , time elaps:19.48s\n",
      "n_components:0.82 , accuracy:0.9779 , time elaps:21.05s\n",
      "n_components:0.83 , accuracy:0.9779 , time elaps:19.61s\n",
      "n_components:0.84 , accuracy:0.9788 , time elaps:21.45s\n",
      "n_components:0.85 , accuracy:0.9786 , time elaps:22.61s\n",
      "n_components:0.86 , accuracy:0.9788 , time elaps:24.11s\n",
      "n_components:0.87 , accuracy:0.9783 , time elaps:26.41s\n",
      "n_components:0.88 , accuracy:0.9776 , time elaps:31.06s\n",
      "n_components:0.89 , accuracy:0.9781 , time elaps:30.26s\n"
     ]
    }
   ],
   "source": [
    "#预处理之后，为了避免维度灾难，我决定对这个784的数据进行降维处理\n",
    "# 生成n_components的取值列表\n",
    "all_scores = []\n",
    "n_components = np.linspace(0.7,0.9,num=20, endpoint=False)\n",
    "#当主成分为n时,计算模型预测的准确率\n",
    "def get_accuracy_score(n, x_train, x_test, y_train, y_test):\n",
    "    t0 = time()\n",
    "    pca = PCA(n_components = n)\n",
    "    pca.fit(x_train)\n",
    "    x_train_pca = pca.transform(x_train)\n",
    "    x_test_pca = pca.transform(x_test)\n",
    "    # 使用支持向量机分类器\n",
    "    clf = svm.SVC()\n",
    "    clf.fit(x_train_pca, y_train)\n",
    "    # 计算准确度\n",
    "    accuracy = clf.score(x_test_pca, y_test)\n",
    "    t1 = time()\n",
    "    print('n_components:{:.2f} , accuracy:{:.4f} , time elaps:{:.2f}s'.format(n, accuracy, t1-t0))\n",
    "    return accuracy\n",
    "#将得到的准确度加入all_scores列表中\n",
    "for n in n_components:\n",
    "    score = get_accuracy_score(n,x_train, x_test, y_train, y_test)\n",
    "    all_scores.append(score)"
   ],
   "metadata": {
    "collapsed": false,
    "pycharm": {
     "name": "#%%\n"
    }
   }
  },
  {
   "cell_type": "code",
   "execution_count": 48,
   "outputs": [
    {
     "data": {
      "text/plain": "<Figure size 432x288 with 1 Axes>",
      "image/png": "[encoded data removed]"
     },
     "metadata": {
      "needs_background": "light"
     },
     "output_type": "display_data"
    }
   ],
   "source": [
    "#画个图看看大概准确值最大大概落在哪里\n",
    "plt.rcParams[\"font.sans-serif\"]=[\"SimHei\"]\n",
    "plt.rcParams[\"axes.unicode_minus\"]=False\n",
    "plt.plot(n_components, all_scores, '-o')\n",
    "plt.xlabel('n_components')\n",
    "plt.ylabel('准确度')\n",
    "plt.show()"
   ],
   "metadata": {
    "collapsed": false,
    "pycharm": {
     "name": "#%%\n"
    }
   }
  },
  {
   "cell_type": "code",
   "execution_count": 36,
   "outputs": [],
   "source": [
    "#确认n_component在0.84处准确率最大，所以调整数据\n",
    "pca = PCA(n_components=0.84)\n",
    "pca.fit(X)\n",
    "X = pca.transform(X)\n",
    "test = pca.transform(test)\n"
   ],
   "metadata": {
    "collapsed": false,
    "pycharm": {
     "name": "#%%\n"
    }
   }
  },
  {
   "cell_type": "code",
   "execution_count": 37,
   "outputs": [
    {
     "name": "stdout",
     "output_type": "stream",
     "text": [
      "Fitting 5 folds for each of 12 candidates, totalling 60 fits\n",
      "[CV] C=1, kernel=linear ..............................................\n",
      "[CV] ............................... C=1, kernel=linear, total=  16.4s\n",
      "[CV] C=1, kernel=linear ..............................................\n",
      "[CV] ............................... C=1, kernel=linear, total=  16.3s\n",
      "[CV] C=1, kernel=linear ..............................................\n",
      "[CV] ............................... C=1, kernel=linear, total=  15.8s\n",
      "[CV] C=1, kernel=linear ..............................................\n",
      "[CV] ............................... C=1, kernel=linear, total=  16.6s\n",
      "[CV] C=1, kernel=linear ..............................................\n",
      "[CV] ............................... C=1, kernel=linear, total=  16.4s\n",
      "[CV] C=1, kernel=rbf .................................................\n",
      "[CV] .................................. C=1, kernel=rbf, total=  17.6s\n",
      "[CV] C=1, kernel=rbf .................................................\n",
      "[CV] .................................. C=1, kernel=rbf, total=  16.7s\n",
      "[CV] C=1, kernel=rbf .................................................\n",
      "[CV] .................................. C=1, kernel=rbf, total=  17.2s\n",
      "[CV] C=1, kernel=rbf .................................................\n",
      "[CV] .................................. C=1, kernel=rbf, total=  16.4s\n",
      "[CV] C=1, kernel=rbf .................................................\n",
      "[CV] .................................. C=1, kernel=rbf, total=  16.7s\n",
      "[CV] C=1, kernel=sigmoid .............................................\n",
      "[CV] .............................. C=1, kernel=sigmoid, total=  18.6s\n",
      "[CV] C=1, kernel=sigmoid .............................................\n",
      "[CV] .............................. C=1, kernel=sigmoid, total=  18.6s\n",
      "[CV] C=1, kernel=sigmoid .............................................\n",
      "[CV] .............................. C=1, kernel=sigmoid, total=  18.3s\n",
      "[CV] C=1, kernel=sigmoid .............................................\n",
      "[CV] .............................. C=1, kernel=sigmoid, total=  18.5s\n",
      "[CV] C=1, kernel=sigmoid .............................................\n",
      "[CV] .............................. C=1, kernel=sigmoid, total=  18.8s\n",
      "[CV] C=2, kernel=linear ..............................................\n",
      "[CV] ............................... C=2, kernel=linear, total=  22.1s\n",
      "[CV] C=2, kernel=linear ..............................................\n",
      "[CV] ............................... C=2, kernel=linear, total=  22.2s\n",
      "[CV] C=2, kernel=linear ..............................................\n",
      "[CV] ............................... C=2, kernel=linear, total=  21.8s\n",
      "[CV] C=2, kernel=linear ..............................................\n",
      "[CV] ............................... C=2, kernel=linear, total=  22.7s\n",
      "[CV] C=2, kernel=linear ..............................................\n",
      "[CV] ............................... C=2, kernel=linear, total=  22.1s\n",
      "[CV] C=2, kernel=rbf .................................................\n",
      "[CV] .................................. C=2, kernel=rbf, total=  15.8s\n",
      "[CV] C=2, kernel=rbf .................................................\n",
      "[CV] .................................. C=2, kernel=rbf, total=  15.5s\n",
      "[CV] C=2, kernel=rbf .................................................\n",
      "[CV] .................................. C=2, kernel=rbf, total=  15.4s\n",
      "[CV] C=2, kernel=rbf .................................................\n",
      "[CV] .................................. C=2, kernel=rbf, total=  15.4s\n",
      "[CV] C=2, kernel=rbf .................................................\n",
      "[CV] .................................. C=2, kernel=rbf, total=  15.5s\n",
      "[CV] C=2, kernel=sigmoid .............................................\n",
      "[CV] .............................. C=2, kernel=sigmoid, total=  17.1s\n",
      "[CV] C=2, kernel=sigmoid .............................................\n",
      "[CV] .............................. C=2, kernel=sigmoid, total=  16.7s\n",
      "[CV] C=2, kernel=sigmoid .............................................\n",
      "[CV] .............................. C=2, kernel=sigmoid, total=  16.8s\n",
      "[CV] C=2, kernel=sigmoid .............................................\n",
      "[CV] .............................. C=2, kernel=sigmoid, total=  16.9s\n",
      "[CV] C=2, kernel=sigmoid .............................................\n",
      "[CV] .............................. C=2, kernel=sigmoid, total=  17.1s\n",
      "[CV] C=4, kernel=linear ..............................................\n",
      "[CV] ............................... C=4, kernel=linear, total=  32.5s\n",
      "[CV] C=4, kernel=linear ..............................................\n",
      "[CV] ............................... C=4, kernel=linear, total=  33.2s\n",
      "[CV] C=4, kernel=linear ..............................................\n",
      "[CV] ............................... C=4, kernel=linear, total=  31.8s\n",
      "[CV] C=4, kernel=linear ..............................................\n",
      "[CV] ............................... C=4, kernel=linear, total=  33.1s\n",
      "[CV] C=4, kernel=linear ..............................................\n",
      "[CV] ............................... C=4, kernel=linear, total=  32.2s\n",
      "[CV] C=4, kernel=rbf .................................................\n",
      "[CV] .................................. C=4, kernel=rbf, total=  15.0s\n",
      "[CV] C=4, kernel=rbf .................................................\n",
      "[CV] .................................. C=4, kernel=rbf, total=  15.2s\n",
      "[CV] C=4, kernel=rbf .................................................\n",
      "[CV] .................................. C=4, kernel=rbf, total=  14.9s\n",
      "[CV] C=4, kernel=rbf .................................................\n",
      "[CV] .................................. C=4, kernel=rbf, total=  15.0s\n",
      "[CV] C=4, kernel=rbf .................................................\n",
      "[CV] .................................. C=4, kernel=rbf, total=  15.1s\n",
      "[CV] C=4, kernel=sigmoid .............................................\n",
      "[CV] .............................. C=4, kernel=sigmoid, total=  16.2s\n",
      "[CV] C=4, kernel=sigmoid .............................................\n",
      "[CV] .............................. C=4, kernel=sigmoid, total=  15.7s\n",
      "[CV] C=4, kernel=sigmoid .............................................\n",
      "[CV] .............................. C=4, kernel=sigmoid, total=  15.8s\n",
      "[CV] C=4, kernel=sigmoid .............................................\n",
      "[CV] .............................. C=4, kernel=sigmoid, total=  15.9s\n",
      "[CV] C=4, kernel=sigmoid .............................................\n",
      "[CV] .............................. C=4, kernel=sigmoid, total=  16.2s\n",
      "[CV] C=5, kernel=linear ..............................................\n",
      "[CV] ............................... C=5, kernel=linear, total=  37.2s\n",
      "[CV] C=5, kernel=linear ..............................................\n",
      "[CV] ............................... C=5, kernel=linear, total=  37.4s\n",
      "[CV] C=5, kernel=linear ..............................................\n",
      "[CV] ............................... C=5, kernel=linear, total=  36.3s\n",
      "[CV] C=5, kernel=linear ..............................................\n",
      "[CV] ............................... C=5, kernel=linear, total=  38.1s\n",
      "[CV] C=5, kernel=linear ..............................................\n",
      "[CV] ............................... C=5, kernel=linear, total=  41.7s\n",
      "[CV] C=5, kernel=rbf .................................................\n",
      "[CV] .................................. C=5, kernel=rbf, total=  18.3s\n",
      "[CV] C=5, kernel=rbf .................................................\n",
      "[CV] .................................. C=5, kernel=rbf, total=  16.1s\n",
      "[CV] C=5, kernel=rbf .................................................\n",
      "[CV] .................................. C=5, kernel=rbf, total=  15.6s\n",
      "[CV] C=5, kernel=rbf .................................................\n",
      "[CV] .................................. C=5, kernel=rbf, total=  16.7s\n",
      "[CV] C=5, kernel=rbf .................................................\n",
      "[CV] .................................. C=5, kernel=rbf, total=  16.9s\n",
      "[CV] C=5, kernel=sigmoid .............................................\n",
      "[CV] .............................. C=5, kernel=sigmoid, total=  18.6s\n",
      "[CV] C=5, kernel=sigmoid .............................................\n",
      "[CV] .............................. C=5, kernel=sigmoid, total=  17.3s\n",
      "[CV] C=5, kernel=sigmoid .............................................\n",
      "[CV] .............................. C=5, kernel=sigmoid, total=  17.5s\n",
      "[CV] C=5, kernel=sigmoid .............................................\n",
      "[CV] .............................. C=5, kernel=sigmoid, total=  16.6s\n",
      "[CV] C=5, kernel=sigmoid .............................................\n",
      "[CV] .............................. C=5, kernel=sigmoid, total=  15.5s\n",
      "Done\n"
     ]
    },
    {
     "name": "stderr",
     "output_type": "stream",
     "text": [
      "[Parallel(n_jobs=1)]: Using backend SequentialBackend with 1 concurrent workers.\n",
      "[Parallel(n_jobs=1)]: Done   1 out of   1 | elapsed:   16.3s remaining:    0.0s\n",
      "[Parallel(n_jobs=1)]: Done  60 out of  60 | elapsed: 20.2min finished\n"
     ]
    }
   ],
   "source": [
    "#开始训练，使用支持向量机预测，使用网格搜索调整参数\n",
    "clf_svc = GridSearchCV(estimator=svm.SVC(), param_grid={ 'C': [1, 2, 4, 5], 'kernel': [ 'linear', 'rbf', 'sigmoid' ] }, cv=5, verbose=2 )\n",
    "clf_svc.fit(X, y)\n",
    "predict = clf_svc.predict(test)\n",
    "image_id = pd.Series(range(1,len(predict)+1))\n",
    "result_2 = pd.DataFrame({'ImageID': image_id,'Label':predict})\n",
    "# 保存为CSV文件\n",
    "result_2.to_csv('result_svc.csv',index = False)\n",
    "print('Done')\n"
   ],
   "metadata": {
    "collapsed": false,
    "pycharm": {
     "name": "#%%\n"
    }
   }
  }
 ],
 "metadata": {
  "kernelspec": {
   "name": "pycharm-9f5953f0",
   "language": "python",
   "display_name": "PyCharm (numRecongnition)"
  },
  "language_info": {
   "codemirror_mode": {
    "name": "ipython",
    "version": 2
   },
   "file_extension": ".py",
   "mimetype": "text/x-python",
   "name": "python",
   "nbconvert_exporter": "python",
   "pygments_lexer": "ipython2",
   "version": "2.7.6"
  }
 },
 "nbformat": 4,
 "nbformat_minor": 0
}